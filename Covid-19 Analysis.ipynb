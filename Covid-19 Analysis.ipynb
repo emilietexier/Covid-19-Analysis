{
 "cells": [
  {
   "cell_type": "markdown",
   "metadata": {},
   "source": [
    "## Etude d'un dataset du Covid-19\n",
    "\n",
    "\n",
    "\n"
   ]
  },
  {
   "cell_type": "code",
   "execution_count": 18,
   "metadata": {},
   "outputs": [
    {
     "data": {
      "image/png": "[encoded data removed]",
      "text/plain": [
       "<Figure size 432x288 with 1 Axes>"
      ]
     },
     "metadata": {
      "needs_background": "light"
     },
     "output_type": "display_data"
    }
   ],
   "source": [
    "import pandas as pd\n",
    "import numpy as np\n",
    "import matplotlib.pyplot as plt\n",
    "\n",
    "\n",
    "data = pd.read_excel(r'C:\\Users\\emili\\Desktop\\covid19-dataset.xlsx')\n",
    "\n",
    "df_countries = pd.DataFrame(data, columns = ['Countries and territories'])\n",
    "df_deaths = pd.DataFrame(data, columns = ['Deaths'])\n",
    "df_cases = pd.DataFrame(data, columns = ['Cases'])\n",
    "df_population = pd.DataFrame(data, columns = ['Pop_Data.2018'])\n",
    "df_date = pd.DataFrame(data, columns = ['Day', 'Month', 'Year'])\n",
    "\n",
    "#day 1 = December 31st\n",
    "#day 76 = March 25th\n",
    "\n",
    "#to list\n",
    "\n",
    "countries_temp = df_countries.values\n",
    "deaths_temp = df_deaths.values\n",
    "cases_temp = df_cases.values\n",
    "population_temp = df_population.values\n",
    "\n",
    "afghanistan = countries_temp[:76]\n",
    "deaths = deaths_temp[:76]\n",
    "cases = cases_temp[:76]\n",
    "plt.plot(cases, 'ro')\n",
    "plt.show()\n",
    "\n",
    "\n",
    "\n",
    "\n",
    "#recuperation des pays\n",
    "\n",
    "\n",
    "\n",
    "#example for day 1\n",
    "\n",
    "\n",
    "\n",
    "    \n",
    "\n",
    "    \n"
   ]
  },
  {
   "cell_type": "code",
   "execution_count": null,
   "metadata": {},
   "outputs": [],
   "source": []
  }
 ],
 "metadata": {
  "kernelspec": {
   "display_name": "Python 3",
   "language": "python",
   "name": "python3"
  },
  "language_info": {
   "codemirror_mode": {
    "name": "ipython",
    "version": 3
   },
   "file_extension": ".py",
   "mimetype": "text/x-python",
   "name": "python",
   "nbconvert_exporter": "python",
   "pygments_lexer": "ipython3",
   "version": "3.7.1"
  }
 },
 "nbformat": 4,
 "nbformat_minor": 2
}
