{
 "cells": [
  {
   "cell_type": "markdown",
   "metadata": {},
   "source": [
    "## Etude d'un dataset du Covid-19\n",
    "\n",
    "\n",
    "\n"
   ]
  },
  {
   "cell_type": "code",
   "execution_count": null,
   "metadata": {
    "scrolled": false
   },
   "outputs": [],
   "source": [
    "import pandas as pd\n",
    "import numpy as np\n",
    "import matplotlib.pyplot as plt\n",
    "\n",
    "\n",
    "data = pd.read_excel(r'C:\\Users\\emili\\Desktop\\covid19-dataset.xlsx')\n",
    "\n",
    "df_countries = pd.DataFrame(data, columns = ['Countries and territories'])\n",
    "df_deaths = pd.DataFrame(data, columns = ['Deaths'])\n",
    "df_cases = pd.DataFrame(data, columns = ['Cases'])\n",
    "df_population = pd.DataFrame(data, columns = ['Pop_Data.2018'])\n",
    "df_date = pd.DataFrame(data, columns = ['Day', 'Month', 'Year'])\n",
    "\n",
    "\n",
    "countries_temp = df_countries.values\n",
    "deaths_temp = df_deaths.values\n",
    "cases_temp = df_cases.values\n",
    "population_temp = df_population.values\n",
    "\n",
    "\n",
    "n = len(countries_temp)\n",
    "\n",
    "countries_cumulative_cases = [[]]\n",
    "\n",
    "i = 0\n",
    "indice = 0\n",
    "\n",
    "while(i < n):\n",
    "    country = countries_temp[i:i+76]\n",
    "    cases = cases_temp[i:i+76]\n",
    "    cases = cases[::-1]\n",
    "    cases_cumulative = [[]]\n",
    "    cases_cumulative.append(cases[0])\n",
    "    for i in range(76):\n",
    "        temp = 0\n",
    "        for j in range(i):\n",
    "            temp += cases[j]\n",
    "        cases_cumulative.append(temp)\n",
    "    countries_cumulative_cases.append(cases_cumulative)\n",
    "    i += 76\n",
    "    ++indice\n",
    "\n",
    "plt.plot(countries_cumulative_cases[0])\n",
    "plt.plot(countries_cumulative_cases[1])\n",
    "plt.plot(countries_cumulative_cases[2])\n",
    "plt.show()"
   ]
  },
  {
   "cell_type": "code",
   "execution_count": null,
   "metadata": {},
   "outputs": [],
   "source": []
  },
  {
   "cell_type": "code",
   "execution_count": null,
   "metadata": {},
   "outputs": [],
   "source": []
  },
  {
   "cell_type": "code",
   "execution_count": null,
   "metadata": {},
   "outputs": [],
   "source": []
  },
  {
   "cell_type": "code",
   "execution_count": null,
   "metadata": {},
   "outputs": [],
   "source": []
  },
  {
   "cell_type": "code",
   "execution_count": null,
   "metadata": {},
   "outputs": [],
   "source": []
  }
 ],
 "metadata": {
  "kernelspec": {
   "display_name": "Python 3",
   "language": "python",
   "name": "python3"
  },
  "language_info": {
   "codemirror_mode": {
    "name": "ipython",
    "version": 3
   },
   "file_extension": ".py",
   "mimetype": "text/x-python",
   "name": "python",
   "nbconvert_exporter": "python",
   "pygments_lexer": "ipython3",
   "version": "3.7.1"
  }
 },
 "nbformat": 4,
 "nbformat_minor": 2
}
